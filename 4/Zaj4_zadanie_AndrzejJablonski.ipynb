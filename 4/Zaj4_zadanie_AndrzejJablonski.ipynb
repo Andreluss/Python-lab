{
 "cells": [
  {
   "cell_type": "markdown",
   "metadata": {},
   "source": [
    "This is an extension of the task from first part of classes.\n",
    "I recommend using argparse to read user-defined input.\n",
    "\n",
    "### Part A:  \n",
    "Create folders named: January, ... , December  \n",
    "Create subfolders named: Monday, ... , Sunday  \n",
    "In every subfolder create 2 subfolders: morning, evening  \n",
    "In every subsubfolder create 'Solutions.csv' file.  \n",
    "The 'Solutions.csv' should consist of two lines:  \n",
    "\" Model; Output value; Time of computation; \"  \n",
    "\" A ; 17 ; 465s; \"    \n",
    "\n",
    "The first line is always the same.  \n",
    "The second one should be generated randomly (x in {A,B,C}, 0-1000, 0-1000s)  \n",
    "\n",
    "### Part B:  \n",
    "Output the sum of \"Time of computation\" for the model A.  \n",
    "Assume that you do not know how many folders and subfolders there are.  "
   ]
  },
  {
   "cell_type": "code",
   "execution_count": 17,
   "metadata": {},
   "outputs": [
    {
     "name": "stdout",
     "output_type": "stream",
     "text": [
      "Sum of computations time: 35539s\n"
     ]
    }
   ],
   "source": [
    "import calendar\n",
    "import csv\n",
    "import os\n",
    "import random\n",
    "from pathlib import Path\n",
    "\n",
    "list_months = list(calendar.month_name)[1:]\n",
    "list_days = list(calendar.day_name)\n",
    "list_time = [\"morning\", \"evening\"]\n",
    "\n",
    "\n",
    "def create_folders(levels, path=os.getcwd(), level_id=0):\n",
    "    if not os.path.exists(path):\n",
    "        os.mkdir(path)\n",
    "\n",
    "    if (level_id == len(levels)):\n",
    "        file_path = os.path.join(path, 'Solutions.csv')\n",
    "\n",
    "        with open(file_path, 'w', newline='') as file:\n",
    "            writer = csv.writer(file, delimiter=';')\n",
    "            writer.writerow(['Model', 'Output value', 'Time of computation'])\n",
    "\n",
    "            model = random.choice('ABC')\n",
    "            value = random.randint(0, 1000)\n",
    "            time = str(random.randint(0, 1000)) + 's'\n",
    "\n",
    "            writer.writerow([model, value, time])\n",
    "\n",
    "        return\n",
    "\n",
    "    for value in levels[level_id]:\n",
    "        deeper_path = os.path.join(path, value)\n",
    "        create_folders(levels, deeper_path, level_id + 1)\n",
    "\n",
    "\n",
    "def computations_time(path=os.getcwd()) -> int:\n",
    "    if not os.path.exists(path):\n",
    "        return 0\n",
    "\n",
    "    result = 0\n",
    "    for path in Path(path).rglob('*.csv'):\n",
    "        with open(path, 'r', newline='') as file:\n",
    "            reader = csv.reader(file, delimiter=';')\n",
    "\n",
    "            lines = list(reader)\n",
    "            # check if the data is in correct format for processing\n",
    "            if len(lines) >= 2 and len(lines[1]) >= 2:\n",
    "\n",
    "                model = lines[1][0]\n",
    "                time = int(lines[1][2][:-1]) # drop the 's' at the end\n",
    "\n",
    "                if model == 'A':\n",
    "                    result += time\n",
    "\n",
    "    return result\n",
    "\n",
    "\n",
    "folders_dir = os.path.join(os.getcwd(), \"folders\")\n",
    "create_folders([list_months, list_days, list_time], folders_dir)\n",
    "computations_time = computations_time(folders_dir)\n",
    "print(f'Sum of computations time: {computations_time}s')\n"
   ]
  },
  {
   "cell_type": "code",
   "execution_count": null,
   "metadata": {},
   "outputs": [],
   "source": []
  }
 ],
 "metadata": {
  "kernelspec": {
   "display_name": "Python 3 (ipykernel)",
   "language": "python",
   "name": "python3"
  },
  "language_info": {
   "codemirror_mode": {
    "name": "ipython",
    "version": 3
   },
   "file_extension": ".py",
   "mimetype": "text/x-python",
   "name": "python",
   "nbconvert_exporter": "python",
   "pygments_lexer": "ipython3",
   "version": "3.10.12"
  }
 },
 "nbformat": 4,
 "nbformat_minor": 4
}
