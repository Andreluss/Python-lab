{
 "cells": [
  {
   "cell_type": "markdown",
   "id": "9dcf45a3-cb8e-481d-83d4-3dd0788153c3",
   "metadata": {},
   "source": [
    "---\n",
    "## Małe zadanie domowe\n",
    "\n",
    "Poczytać o funkcji [pandas.pivot_table](https://pandas.pydata.org/docs/reference/api/pandas.pivot_table.html) i przeanalizować jej działanie w podanych przykładach. \n",
    "\n",
    "Następnie, dla danych podanych poniżej w ramce df_employees, za pomocą funkcji pivot_table utworzyć podsumowująca ramkę danych, której indeks będzie składał się z poszczególnych rodzajów zatrudnienia, tj. unikatowych wartości kolumny 'Type', a poszczególne kolumny będą zawierały sumę zarobków, wartość średnią zarobków i liczbę pracowników odzielnie dla każdego z wydzia\n",
    "łów, tj. dla każdej z unikatowych wartości w kolumnie 'Department'. "
   ]
  },
  {
   "cell_type": "code",
   "execution_count": 1,
   "id": "aaf7ce8e-e079-4990-aeb1-f2e6ac86b166",
   "metadata": {},
   "outputs": [
    {
     "name": "stdout",
     "output_type": "stream",
     "text": [
      "Defaulting to user installation because normal site-packages is not writeable\n",
      "Requirement already satisfied: pandas in ./.local/lib/python3.10/site-packages (2.2.0)\n",
      "Requirement already satisfied: tzdata>=2022.7 in ./.local/lib/python3.10/site-packages (from pandas) (2023.4)\n",
      "Requirement already satisfied: python-dateutil>=2.8.2 in ./.local/lib/python3.10/site-packages (from pandas) (2.8.2)\n",
      "Requirement already satisfied: numpy<2,>=1.22.4 in ./.local/lib/python3.10/site-packages (from pandas) (1.26.3)\n",
      "Requirement already satisfied: pytz>=2020.1 in ./.local/lib/python3.10/site-packages (from pandas) (2023.3.post1)\n",
      "Requirement already satisfied: six>=1.5 in /usr/lib/python3/dist-packages (from python-dateutil>=2.8.2->pandas) (1.16.0)\n",
      "Note: you may need to restart the kernel to use updated packages.\n"
     ]
    }
   ],
   "source": [
    "pip install pandas"
   ]
  },
  {
   "cell_type": "code",
   "execution_count": 2,
   "id": "d2d21a3d-033d-4e60-a044-53ae48652245",
   "metadata": {},
   "outputs": [
    {
     "name": "stderr",
     "output_type": "stream",
     "text": [
      "/tmp/ipykernel_89869/3997675023.py:1: DeprecationWarning: \n",
      "Pyarrow will become a required dependency of pandas in the next major release of pandas (pandas 3.0),\n",
      "(to allow more performant data types, such as the Arrow string type, and better interoperability with other libraries)\n",
      "but was not found to be installed on your system.\n",
      "If this would cause problems for you,\n",
      "please provide us feedback at https://github.com/pandas-dev/pandas/issues/54466\n",
      "        \n",
      "  import pandas as pd\n"
     ]
    }
   ],
   "source": [
    "import pandas as pd\n",
    "\n",
    "# Przyda się nam też NumPy, więc od razu i tę biblotekę zaimportujemy\n",
    "import numpy as np"
   ]
  },
  {
   "cell_type": "code",
   "execution_count": 3,
   "id": "e4b70bff-cdfe-432a-b5b7-9732ca49b419",
   "metadata": {},
   "outputs": [
    {
     "data": {
      "text/html": [
       "<div>\n",
       "<style scoped>\n",
       "    .dataframe tbody tr th:only-of-type {\n",
       "        vertical-align: middle;\n",
       "    }\n",
       "\n",
       "    .dataframe tbody tr th {\n",
       "        vertical-align: top;\n",
       "    }\n",
       "\n",
       "    .dataframe thead tr th {\n",
       "        text-align: left;\n",
       "    }\n",
       "\n",
       "    .dataframe thead tr:last-of-type th {\n",
       "        text-align: right;\n",
       "    }\n",
       "</style>\n",
       "<table border=\"1\" class=\"dataframe\">\n",
       "  <thead>\n",
       "    <tr>\n",
       "      <th></th>\n",
       "      <th colspan=\"3\" halign=\"left\">sum</th>\n",
       "      <th colspan=\"3\" halign=\"left\">mean</th>\n",
       "      <th colspan=\"3\" halign=\"left\">count</th>\n",
       "    </tr>\n",
       "    <tr>\n",
       "      <th>Department</th>\n",
       "      <th>Administration</th>\n",
       "      <th>Management</th>\n",
       "      <th>Technical</th>\n",
       "      <th>Administration</th>\n",
       "      <th>Management</th>\n",
       "      <th>Technical</th>\n",
       "      <th>Administration</th>\n",
       "      <th>Management</th>\n",
       "      <th>Technical</th>\n",
       "    </tr>\n",
       "    <tr>\n",
       "      <th>Type</th>\n",
       "      <th></th>\n",
       "      <th></th>\n",
       "      <th></th>\n",
       "      <th></th>\n",
       "      <th></th>\n",
       "      <th></th>\n",
       "      <th></th>\n",
       "      <th></th>\n",
       "      <th></th>\n",
       "    </tr>\n",
       "  </thead>\n",
       "  <tbody>\n",
       "    <tr>\n",
       "      <th>Full-time Employee</th>\n",
       "      <td>24000</td>\n",
       "      <td>20000</td>\n",
       "      <td>8000</td>\n",
       "      <td>12000.0</td>\n",
       "      <td>20000.0</td>\n",
       "      <td>8000.0</td>\n",
       "      <td>2</td>\n",
       "      <td>1</td>\n",
       "      <td>1</td>\n",
       "    </tr>\n",
       "    <tr>\n",
       "      <th>Intern</th>\n",
       "      <td>3000</td>\n",
       "      <td>4000</td>\n",
       "      <td>6000</td>\n",
       "      <td>3000.0</td>\n",
       "      <td>4000.0</td>\n",
       "      <td>6000.0</td>\n",
       "      <td>1</td>\n",
       "      <td>1</td>\n",
       "      <td>1</td>\n",
       "    </tr>\n",
       "    <tr>\n",
       "      <th>Part-time Employee</th>\n",
       "      <td>6000</td>\n",
       "      <td>17500</td>\n",
       "      <td>10000</td>\n",
       "      <td>6000.0</td>\n",
       "      <td>8750.0</td>\n",
       "      <td>10000.0</td>\n",
       "      <td>1</td>\n",
       "      <td>2</td>\n",
       "      <td>1</td>\n",
       "    </tr>\n",
       "  </tbody>\n",
       "</table>\n",
       "</div>"
      ],
      "text/plain": [
       "                              sum                                mean  \\\n",
       "Department         Administration Management Technical Administration   \n",
       "Type                                                                    \n",
       "Full-time Employee          24000      20000      8000        12000.0   \n",
       "Intern                       3000       4000      6000         3000.0   \n",
       "Part-time Employee           6000      17500     10000         6000.0   \n",
       "\n",
       "                                                 count                       \n",
       "Department         Management Technical Administration Management Technical  \n",
       "Type                                                                         \n",
       "Full-time Employee    20000.0    8000.0              2          1         1  \n",
       "Intern                 4000.0    6000.0              1          1         1  \n",
       "Part-time Employee     8750.0   10000.0              1          2         1  "
      ]
     },
     "execution_count": 3,
     "metadata": {},
     "output_type": "execute_result"
    }
   ],
   "source": [
    "\n",
    "df_employees = pd.DataFrame({'First Name': ['Tom', 'Adam', 'Jane', 'Alice', 'Robert', 'Bob', 'John', 'Frank', 'Eva',\n",
    "                                            'John', 'Lois'],\n",
    "                   'Last Name': ['Brown', 'Green', 'Thompson', 'Smith', 'Newman', 'Parker', 'Williams', 'Taylor', 'Evans',\n",
    "                                 'Lewis', 'White'],\n",
    "                   'Type': ['Full-time Employee', 'Intern', 'Full-time Employee', 'Part-time Employee', \n",
    "                            'Full-time Employee', 'Intern', 'Intern', 'Part-time Employee', 'Part-time Employee',\n",
    "                            'Full-time Employee', 'Part-time Employee'],\n",
    "                   'Department': ['Administration', 'Technical', 'Administration', 'Technical', 'Management',\n",
    "                                  'Administration', 'Management', 'Administration', 'Management', 'Technical',\n",
    "                                  'Management'],\n",
    "                   'YearsOfExperience': [4, 3, 5, 7, 6, 1, 2, 2, 4, 5, 2],\n",
    "                   'Salary': [15000, 6000, 9000, 10000, 20000, 3000, 4000, 6000, 12000, 8000, 5500]})\n",
    "\n",
    "df_employees\n",
    "pt = pd.pivot_table(df_employees, index='Type', values='Salary', columns='Department',\n",
    "                       aggfunc= [\"sum\", \"mean\", \"count\"])\n",
    "pt"
   ]
  }
 ],
 "metadata": {
  "kernelspec": {
   "display_name": "Python 3 (ipykernel)",
   "language": "python",
   "name": "python3"
  },
  "language_info": {
   "codemirror_mode": {
    "name": "ipython",
    "version": 3
   },
   "file_extension": ".py",
   "mimetype": "text/x-python",
   "name": "python",
   "nbconvert_exporter": "python",
   "pygments_lexer": "ipython3",
   "version": "3.10.12"
  }
 },
 "nbformat": 4,
 "nbformat_minor": 5
}
