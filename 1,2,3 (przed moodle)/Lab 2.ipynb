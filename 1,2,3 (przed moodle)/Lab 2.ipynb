{
 "cells": [
  {
   "cell_type": "code",
   "execution_count": 1,
   "id": "f9fb04ee",
   "metadata": {},
   "outputs": [
    {
     "name": "stdout",
     "output_type": "stream",
     "text": [
      "510064471.90978825\n"
     ]
    }
   ],
   "source": [
    "import math\n",
    "\n",
    "def planet_surface(radius):\n",
    "    return 4 * radius**2 * math.pi\n",
    "    \n",
    "print(planet_surface(6371))"
   ]
  },
  {
   "cell_type": "code",
   "execution_count": 2,
   "id": "44a2e642",
   "metadata": {
    "scrolled": true
   },
   "outputs": [
    {
     "name": "stdout",
     "output_type": "stream",
     "text": [
      "22\n",
      "Temp:  22\n",
      "wiosna\n"
     ]
    }
   ],
   "source": [
    "x = int(input())\n",
    "print(\"Temp: \", x)\n",
    "\n",
    "if x < 0: \n",
    "    print(\"Zima\")\n",
    "elif x < 10:\n",
    "    print(\"Jesien\")\n",
    "elif x < 25:\n",
    "    print(\"wiosna\")\n",
    "else:\n",
    "    print(\"Lato\")"
   ]
  },
  {
   "cell_type": "code",
   "execution_count": null,
   "id": "9fe630ba",
   "metadata": {},
   "outputs": [],
   "source": []
  }
 ],
 "metadata": {
  "kernelspec": {
   "display_name": "Python 3 (ipykernel)",
   "language": "python",
   "name": "python3"
  },
  "language_info": {
   "codemirror_mode": {
    "name": "ipython",
    "version": 3
   },
   "file_extension": ".py",
   "mimetype": "text/x-python",
   "name": "python",
   "nbconvert_exporter": "python",
   "pygments_lexer": "ipython3",
   "version": "3.11.2"
  }
 },
 "nbformat": 4,
 "nbformat_minor": 5
}
