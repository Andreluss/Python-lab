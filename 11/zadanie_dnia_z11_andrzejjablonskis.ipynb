{
 "cells": [
  {
   "cell_type": "markdown",
   "id": "e6c1b4d6",
   "metadata": {},
   "source": [
    "# Zadanie dnia"
   ]
  },
  {
   "cell_type": "code",
   "execution_count": 7,
   "id": "421c5c1b",
   "metadata": {},
   "outputs": [
    {
     "name": "stdout",
     "output_type": "stream",
     "text": [
      "Defaulting to user installation because normal site-packages is not writeable\n",
      "Requirement already satisfied: requests in /home/andrez/.local/lib/python3.10/site-packages (2.31.0)\n",
      "Requirement already satisfied: certifi>=2017.4.17 in /home/andrez/.local/lib/python3.10/site-packages (from requests) (2023.11.17)\n",
      "Requirement already satisfied: urllib3<3,>=1.21.1 in /home/andrez/.local/lib/python3.10/site-packages (from requests) (2.1.0)\n",
      "Requirement already satisfied: charset-normalizer<4,>=2 in /home/andrez/.local/lib/python3.10/site-packages (from requests) (3.3.2)\n",
      "Requirement already satisfied: idna<4,>=2.5 in /home/andrez/.local/lib/python3.10/site-packages (from requests) (3.6)\n",
      "Note: you may need to restart the kernel to use updated packages.\n"
     ]
    }
   ],
   "source": [
    "pip install requests"
   ]
  },
  {
   "cell_type": "markdown",
   "id": "dd186b27",
   "metadata": {},
   "source": [
    "* Należy pobrać z wykorzystaniem pakietów requests, Beautiful Soup wszystkie wydarzenia zamieszczone w harmonogramie na stronie https://www.mimuw.edu.pl/. \n",
    "* Proszę napisać scraper w taki sposób, aby w efekcie działania zapisywał informacje jako lista słowników, których kluczami są tytuł, url do wydarzenia oraz jego data i godzina.\n",
    "* Otrzymane dane proszę zapisać w formacie csv/xlsx - pomocne może być wykorzystanie ramki danych (pakiet pandas) i metody from_dict.\n",
    "* Na koniec - prosze o wyświetlenie pięciu losowych wydarzeń z listy pobranych (tytuł, url, data)."
   ]
  },
  {
   "cell_type": "code",
   "execution_count": 39,
   "id": "efada636-9f4a-44ca-89a2-065a93cd7507",
   "metadata": {},
   "outputs": [
    {
     "name": "stderr",
     "output_type": "stream",
     "text": [
      "/tmp/ipykernel_90370/1222050232.py:3: DeprecationWarning: \n",
      "Pyarrow will become a required dependency of pandas in the next major release of pandas (pandas 3.0),\n",
      "(to allow more performant data types, such as the Arrow string type, and better interoperability with other libraries)\n",
      "but was not found to be installed on your system.\n",
      "If this would cause problems for you,\n",
      "please provide us feedback at https://github.com/pandas-dev/pandas/issues/54466\n",
      "        \n",
      "  import pandas as pd\n"
     ]
    }
   ],
   "source": [
    "import requests\n",
    "from bs4 import BeautifulSoup\n",
    "import pandas as pd"
   ]
  },
  {
   "cell_type": "code",
   "execution_count": 51,
   "id": "3e58cc39",
   "metadata": {},
   "outputs": [
    {
     "data": {
      "text/html": [
       "<div>\n",
       "<style scoped>\n",
       "    .dataframe tbody tr th:only-of-type {\n",
       "        vertical-align: middle;\n",
       "    }\n",
       "\n",
       "    .dataframe tbody tr th {\n",
       "        vertical-align: top;\n",
       "    }\n",
       "\n",
       "    .dataframe thead th {\n",
       "        text-align: right;\n",
       "    }\n",
       "</style>\n",
       "<table border=\"1\" class=\"dataframe\">\n",
       "  <thead>\n",
       "    <tr style=\"text-align: right;\">\n",
       "      <th></th>\n",
       "      <th>title</th>\n",
       "      <th>href</th>\n",
       "      <th>date</th>\n",
       "    </tr>\n",
       "  </thead>\n",
       "  <tbody>\n",
       "    <tr>\n",
       "      <th>13</th>\n",
       "      <td>On the asymptotic behaviour of the optimal con...</td>\n",
       "      <td>https://www.mimuw.edu.pl//aktualnosci/seminari...</td>\n",
       "      <td>2024-01-18 12:15</td>\n",
       "    </tr>\n",
       "    <tr>\n",
       "      <th>23</th>\n",
       "      <td>Concentrated sets in the Miller model</td>\n",
       "      <td>https://www.mimuw.edu.pl//aktualnosci/seminari...</td>\n",
       "      <td>2024-01-10 16:15</td>\n",
       "    </tr>\n",
       "    <tr>\n",
       "      <th>21</th>\n",
       "      <td>Ciekawostki o kwaternionach</td>\n",
       "      <td>https://www.mimuw.edu.pl//aktualnosci/seminari...</td>\n",
       "      <td>2024-01-11 12:15</td>\n",
       "    </tr>\n",
       "    <tr>\n",
       "      <th>7</th>\n",
       "      <td>Schubert calculus in Lie groups</td>\n",
       "      <td>https://www.mimuw.edu.pl//aktualnosci/seminari...</td>\n",
       "      <td>2024-01-24 10:30</td>\n",
       "    </tr>\n",
       "    <tr>\n",
       "      <th>0</th>\n",
       "      <td>TBA</td>\n",
       "      <td>https://www.mimuw.edu.pl//aktualnosci/seminari...</td>\n",
       "      <td>2024-03-06 17:15</td>\n",
       "    </tr>\n",
       "  </tbody>\n",
       "</table>\n",
       "</div>"
      ],
      "text/plain": [
       "                                                title  \\\n",
       "13  On the asymptotic behaviour of the optimal con...   \n",
       "23              Concentrated sets in the Miller model   \n",
       "21                        Ciekawostki o kwaternionach   \n",
       "7                     Schubert calculus in Lie groups   \n",
       "0                                                 TBA   \n",
       "\n",
       "                                                 href              date  \n",
       "13  https://www.mimuw.edu.pl//aktualnosci/seminari...  2024-01-18 12:15  \n",
       "23  https://www.mimuw.edu.pl//aktualnosci/seminari...  2024-01-10 16:15  \n",
       "21  https://www.mimuw.edu.pl//aktualnosci/seminari...  2024-01-11 12:15  \n",
       "7   https://www.mimuw.edu.pl//aktualnosci/seminari...  2024-01-24 10:30  \n",
       "0   https://www.mimuw.edu.pl//aktualnosci/seminari...  2024-03-06 17:15  "
      ]
     },
     "execution_count": 51,
     "metadata": {},
     "output_type": "execute_result"
    }
   ],
   "source": [
    "response = requests.get('https://www.mimuw.edu.pl/')\n",
    "soup = BeautifulSoup(response.text, 'html.parser')\n",
    "soup = soup.select_one('#block-views-calendar-block')\n",
    "events = soup.find_all('li')\n",
    "dicts = list(dict())\n",
    "for event in events:\n",
    "    title = event.select('.title')[0].text\n",
    "    href = \"https://www.mimuw.edu.pl/\" + event.find('a')['href']\n",
    "    date = event.select('.date')[0].text\n",
    "    dicts.append({'title': title, 'href': href, 'date': date})\n",
    "    # print(f\"{title=} {href=} {date=}\")\n",
    "    # print('------------------------------------------------------------')\n",
    "df = pd.DataFrame.from_dict(dicts)\n",
    "df.to_csv('wydarzenia_mimuw.csv')\n",
    "df.sample(5)"
   ]
  },
  {
   "cell_type": "code",
   "execution_count": 2,
   "id": "d2e04e76",
   "metadata": {},
   "outputs": [
    {
     "data": {
      "text/html": [
       "<div>\n",
       "<style scoped>\n",
       "    .dataframe tbody tr th:only-of-type {\n",
       "        vertical-align: middle;\n",
       "    }\n",
       "\n",
       "    .dataframe tbody tr th {\n",
       "        vertical-align: top;\n",
       "    }\n",
       "\n",
       "    .dataframe thead th {\n",
       "        text-align: right;\n",
       "    }\n",
       "</style>\n",
       "<table border=\"1\" class=\"dataframe\">\n",
       "  <thead>\n",
       "    <tr style=\"text-align: right;\">\n",
       "      <th></th>\n",
       "      <th>title</th>\n",
       "      <th>href</th>\n",
       "      <th>date</th>\n",
       "    </tr>\n",
       "  </thead>\n",
       "  <tbody>\n",
       "    <tr>\n",
       "      <th>22</th>\n",
       "      <td>Unveiling Microbial Dark Matter: leveraging co...</td>\n",
       "      <td>https://www.mimuw.edu.pl/aktualnosci/seminaria...</td>\n",
       "      <td>2023-12-06 10:15</td>\n",
       "    </tr>\n",
       "    <tr>\n",
       "      <th>2</th>\n",
       "      <td>North Atlantic Noncommutative Geometry Seminar</td>\n",
       "      <td>https://www.mimuw.edu.pl/aktualnosci/seminaria...</td>\n",
       "      <td>2024-01-24 17:15</td>\n",
       "    </tr>\n",
       "    <tr>\n",
       "      <th>7</th>\n",
       "      <td>Coercive inequalities for Gibbs measures</td>\n",
       "      <td>https://www.mimuw.edu.pl/aktualnosci/seminaria...</td>\n",
       "      <td>2023-12-14 12:15</td>\n",
       "    </tr>\n",
       "    <tr>\n",
       "      <th>60</th>\n",
       "      <td>Magdalena Wiertel</td>\n",
       "      <td>https://www.mimuw.edu.pl/doktoraty/magdalena-w...</td>\n",
       "      <td>2023-11-16 16:15</td>\n",
       "    </tr>\n",
       "    <tr>\n",
       "      <th>33</th>\n",
       "      <td>Foam evaluation and GL(N)-equivariant Khovanov...</td>\n",
       "      <td>https://www.mimuw.edu.pl/aktualnosci/seminaria...</td>\n",
       "      <td>2023-11-29 10:30</td>\n",
       "    </tr>\n",
       "  </tbody>\n",
       "</table>\n",
       "</div>"
      ],
      "text/plain": [
       "                                                title  \\\n",
       "22  Unveiling Microbial Dark Matter: leveraging co...   \n",
       "2      North Atlantic Noncommutative Geometry Seminar   \n",
       "7           Coercive inequalities for Gibbs measures    \n",
       "60                                  Magdalena Wiertel   \n",
       "33  Foam evaluation and GL(N)-equivariant Khovanov...   \n",
       "\n",
       "                                                 href              date  \n",
       "22  https://www.mimuw.edu.pl/aktualnosci/seminaria...  2023-12-06 10:15  \n",
       "2   https://www.mimuw.edu.pl/aktualnosci/seminaria...  2024-01-24 17:15  \n",
       "7   https://www.mimuw.edu.pl/aktualnosci/seminaria...  2023-12-14 12:15  \n",
       "60  https://www.mimuw.edu.pl/doktoraty/magdalena-w...  2023-11-16 16:15  \n",
       "33  https://www.mimuw.edu.pl/aktualnosci/seminaria...  2023-11-29 10:30  "
      ]
     },
     "execution_count": 2,
     "metadata": {},
     "output_type": "execute_result"
    }
   ],
   "source": []
  },
  {
   "cell_type": "code",
   "execution_count": 98,
   "id": "7fe6b588",
   "metadata": {},
   "outputs": [
    {
     "name": "stdout",
     "output_type": "stream",
     "text": [
      "Pogoda jutro (24.01): 8 / 4 °C\n"
     ]
    }
   ],
   "source": [
    "# Zadanie 2\n",
    "# Najszybciej dostepna progroza pogody na jutro w Warszawie - skrypt w Pythonie\n",
    "# response = requests.get('https://www.google.com/search?q=pogoda+warszawa+jutro')\n",
    "response = requests.get('https://meteobox.pl/warszawa/pogoda-jutro')\n",
    "soup = BeautifulSoup(response.text, 'html.parser')\n",
    "fcst = soup.select_one(\"#svgforecast\").select('a > text')\n",
    "day = fcst[3*1 + 1].text \n",
    "deg = fcst[3*1 + 2].text\n",
    "print(f\"Pogoda jutro ({day[:-1]}): {deg_jutro}\")"
   ]
  },
  {
   "cell_type": "markdown",
   "id": "ad7bd102",
   "metadata": {},
   "source": [
    "Należy wybrać dowolną stronę internetową (zgodnie z zainteresowaniami), która zezwala na pobieranie danych. Następnie proszę dokonać pobierania wybranych przez Państwa treści. Można spróbować wykorzystac Selenium, chociaż requests + Beautiful Soup są wystarczające. Uzasadnić do czego takie dane mogą się Państwu przydać.  "
   ]
  }
 ],
 "metadata": {
  "kernelspec": {
   "display_name": "Python 3 (ipykernel)",
   "language": "python",
   "name": "python3"
  },
  "language_info": {
   "codemirror_mode": {
    "name": "ipython",
    "version": 3
   },
   "file_extension": ".py",
   "mimetype": "text/x-python",
   "name": "python",
   "nbconvert_exporter": "python",
   "pygments_lexer": "ipython3",
   "version": "3.10.12"
  }
 },
 "nbformat": 4,
 "nbformat_minor": 5
}
